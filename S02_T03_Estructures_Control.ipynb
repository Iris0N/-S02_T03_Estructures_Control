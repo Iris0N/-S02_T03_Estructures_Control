{
 "cells": [
  {
   "cell_type": "markdown",
   "id": "f639a994",
   "metadata": {},
   "source": [
    "## Exercici 1"
   ]
  },
  {
   "cell_type": "code",
   "execution_count": null,
   "id": "74b17807",
   "metadata": {},
   "outputs": [],
   "source": [
    "grade= int(input(\"Posa la teva nota de 0 a 10:\"))\n",
    "if grade < 9 and grade >= 5:\n",
    "    print(\"Aprovat\")\n",
    "elif grade >=  9:\n",
    "    print(\"Ecel·lent\")\n",
    "elif grade < 5:\n",
    "    print(\"Suspès\")\n",
    "else: \n",
    "    print(\"Error\")"
   ]
  },
  {
   "cell_type": "markdown",
   "id": "7733b280",
   "metadata": {},
   "source": [
    "## Exercici 2"
   ]
  },
  {
   "cell_type": "code",
   "execution_count": null,
   "id": "69d5cc0f",
   "metadata": {},
   "outputs": [],
   "source": [
    "number1= int(input(\"First number:\"))\n",
    "number2= int(input(\"Second number:\"))\n",
    "if number1 > number2:\n",
    "    print (number1, \"is greater than\", number2)\n",
    "elif number1 < number2:\n",
    "    print ( number2, \"is greater than\", number1)\n",
    "elif number1 == number2:\n",
    "    print (\"Both numbers are equal\")\n",
    "else:\n",
    "    print (\"Error\")"
   ]
  },
  {
   "cell_type": "markdown",
   "id": "8c9df4f1",
   "metadata": {},
   "source": [
    "## Exercici 3"
   ]
  },
  {
   "cell_type": "code",
   "execution_count": 5,
   "id": "74d7ab23",
   "metadata": {},
   "outputs": [
    {
     "name": "stdout",
     "output_type": "stream",
     "text": [
      "Write down your name:Iris\n",
      "Write down the number of repetions:6\n",
      "IrisIrisIrisIrisIrisIris\n"
     ]
    }
   ],
   "source": [
    "name= str(input(\"Write down your name:\"))\n",
    "rep= int(input(\"Write down the number of repetions:\"))\n",
    "if rep == 0:\n",
    "    print (\"Error\")\n",
    "else:\n",
    "    print (name*rep) "
   ]
  },
  {
   "cell_type": "markdown",
   "id": "64de79aa",
   "metadata": {},
   "source": [
    "## Exercici 4"
   ]
  },
  {
   "cell_type": "code",
   "execution_count": 29,
   "id": "6b5c2837",
   "metadata": {},
   "outputs": [
    {
     "name": "stdout",
     "output_type": "stream",
     "text": [
      "The list is symmetrical, and there are 8 elements.\n"
     ]
    }
   ],
   "source": [
    "list = [3, 2, 7, 7, 2, 3]\n",
    "rev = list[::-1]\n",
    "if list == rev:\n",
    "    print(\"The list is symmetrical, comprise of\", len(listNumbers),\"elements.\")\n",
    "else:\n",
    "    print (\"The list is not symmetrical.\")"
   ]
  },
  {
   "cell_type": "markdown",
   "id": "88773a7d",
   "metadata": {},
   "source": [
    "## Exercici 5"
   ]
  },
  {
   "cell_type": "code",
   "execution_count": 8,
   "id": "25597ba9",
   "metadata": {},
   "outputs": [
    {
     "name": "stdout",
     "output_type": "stream",
     "text": [
      "0\n",
      "0\n",
      "0\n",
      "0\n",
      "0\n",
      "0\n"
     ]
    }
   ],
   "source": [
    "list = [3, 2, 7, 7, 2, 3]\n",
    "matching_number = 0\n",
    "#index = 0\n",
    "for num in list:\n",
    "    index = list.index(num)\n",
    "    if num == index:\n",
    "        matching_number += 1\n",
    "    #index += 1\n",
    "    print (str(matching_number)) "
   ]
  }
 ],
 "metadata": {
  "kernelspec": {
   "display_name": "Python 3 (ipykernel)",
   "language": "python",
   "name": "python3"
  },
  "language_info": {
   "codemirror_mode": {
    "name": "ipython",
    "version": 3
   },
   "file_extension": ".py",
   "mimetype": "text/x-python",
   "name": "python",
   "nbconvert_exporter": "python",
   "pygments_lexer": "ipython3",
   "version": "3.9.7"
  }
 },
 "nbformat": 4,
 "nbformat_minor": 5
}
